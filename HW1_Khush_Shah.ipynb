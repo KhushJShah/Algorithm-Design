{
 "cells": [
  {
   "cell_type": "markdown",
   "metadata": {},
   "source": [
    "# Homework 1 (DATS-6001)"
   ]
  },
  {
   "cell_type": "markdown",
   "metadata": {},
   "source": [
    "Your Name: Khush Shah"
   ]
  },
  {
   "cell_type": "markdown",
   "metadata": {},
   "source": [
    "## Selection Sort "
   ]
  },
  {
   "cell_type": "markdown",
   "metadata": {},
   "source": [
    "Consider sorting $n$ numbers stored in array $A[0:n-1]$ by first finding the smallest element of $A[0:n-1]$ and exchanging it with the element in $A[0]$. Then find the smallest element of $A[1:n-1]$, and exchange it with $A[1]$. Then find the smallest element of $A[2:n-1]$, and exchange it with $A[2]$. Continue in this manner for the first $(n-1)$ elements of $A$. "
   ]
  },
  {
   "cell_type": "markdown",
   "metadata": {},
   "source": [
    "### Question 1 (2 points)"
   ]
  },
  {
   "cell_type": "markdown",
   "metadata": {},
   "source": [
    "Write a pseudocode for this algorithm, which is known as **selection sort**.  \n",
    "\n",
    "SelectionSort(A):  \n",
    "    for i = 0 to n-2 do:  \n",
    "        minIndex = i  \n",
    "        for j = i+1 to n-1 do:  \n",
    "            if A[j] < A[minIndex] then:  \n",
    "                minIndex = j  \n",
    "        if minIndex != i then:  \n",
    "            swap A[i] and A[minIndex]  \n"
   ]
  },
  {
   "cell_type": "markdown",
   "metadata": {},
   "source": [
    "### Question 2 (1 point)"
   ]
  },
  {
   "cell_type": "markdown",
   "metadata": {},
   "source": [
    "Why does it need to run for only the first $(n-1)$ elements, rather than for all $n$ elements?\n",
    "The selection sort algorithm needs to run only for the first (n - 1) elements because after these iterations, the nth element will already be in its correct position. This is due to the property of selection sort that after each pass, the smallest (or largest, depending on the sorting order) element in the unsorted portion of the array is placed at the end of the sorted portion. Therefore, when there's only one element left, it must be in the correct position since all other elements are sorted.\n"
   ]
  },
  {
   "cell_type": "markdown",
   "metadata": {},
   "source": [
    "### Question 3 (1 point)"
   ]
  },
  {
   "cell_type": "markdown",
   "metadata": {},
   "source": [
    "Describe the worst-case input for the algorithm.  \n",
    "The worst-case input for selection sort is an array that is in descending order when we want to sort in ascending order. This is because every comparison will result in a swap, making the number of swaps as large as possible."
   ]
  },
  {
   "cell_type": "markdown",
   "metadata": {},
   "source": [
    "### Question 4 (3 points)"
   ]
  },
  {
   "cell_type": "markdown",
   "metadata": {},
   "source": [
    "Give the worst-case running time of selection sort in terms of the input size $n$. Try to be as thorough as possible.  \n",
    "Total_Comparisons = C * [(n-1) + (n-2) + ... + 1]  \n",
    "                  = C * (n-1) * (n)/2  \n",
    "\n",
    "Total_Swaps = S * (n-1)  \n",
    "\n",
    "Total_Complexity = Total_Comparisons + Total_Swaps  \n",
    "                 = C * (n-1) * (n)/2 + S * (n-1)  \n",
    "                 = (C/2) * (n^2 - n) + S * (n-1)  \n",
    "                 = O(n^2)  "
   ]
  },
  {
   "cell_type": "markdown",
   "metadata": {},
   "source": [
    "### Question 5 (3 points)"
   ]
  },
  {
   "cell_type": "code",
   "execution_count": 2,
   "metadata": {},
   "outputs": [],
   "source": [
    "# Implement the algorithm in Python\n",
    "def selection_sort(arr):\n",
    "    n = len(arr)\n",
    "    for i in range(n-1):\n",
    "        min_index = i\n",
    "        for j in range(i+1, n):\n",
    "            if arr[j] < arr[min_index]:\n",
    "                min_index = j\n",
    "        arr[i], arr[min_index] = arr[min_index], arr[i]\n",
    "    return arr\n",
    "\n"
   ]
  },
  {
   "cell_type": "markdown",
   "metadata": {},
   "source": []
  }
 ],
 "metadata": {
  "kernelspec": {
   "display_name": "Python 3.9.12 ('SOUL')",
   "language": "python",
   "name": "python3"
  },
  "language_info": {
   "codemirror_mode": {
    "name": "ipython",
    "version": 3
   },
   "file_extension": ".py",
   "mimetype": "text/x-python",
   "name": "python",
   "nbconvert_exporter": "python",
   "pygments_lexer": "ipython3",
   "version": "3.9.12"
  },
  "vscode": {
   "interpreter": {
    "hash": "e77dea36684f934ff3b773ee6812c26f3271031ac43a86461cb37dbb7ca11da7"
   }
  }
 },
 "nbformat": 4,
 "nbformat_minor": 2
}
